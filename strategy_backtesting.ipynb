{
 "cells": [
  {
   "cell_type": "markdown",
   "metadata": {},
   "source": [
    "# Strategy Backtesting\n",
    "Testing the performance of sharpe based investment strategy.\n",
    "\n",
    "## 1. Define Parameters"
   ]
  },
  {
   "cell_type": "code",
   "execution_count": null,
   "metadata": {},
   "outputs": [],
   "source": [
    "import pandas as pd\n",
    "import bt\n",
    "import yfinance as yf\n",
    "from src.metrics import sharpe_ratio\n",
    "from src.strategy import create_weighted_balance_backtest\n",
    "\n",
    "# Data Download\n",
    "# stocks = ['CTAS','AWK','TDG','MKTX','DPZ','UNH','JKHY','ORLY','EXR','AVGO','SBUX','CPRT','MKC','AMT','RSG','VRSK','COO','AAPL','VRSN','LLY']  # Define your stock symbols\n",
    "stocks = ['AAPL','BKNG','MNST','GILD','MCD','CHD','SBAC','ROP','TJX','SHW','COR','ACGL','TYL','WEC','AZO','WST','CTRA','ECL','HRL','ILMN','GIS']\n",
    "start_dt = '2014-01-02'\n",
    "end_dt = '2024-01-01'\n",
    "interval = '1mo'\n",
    "\n",
    "# Strategy Parameters\n",
    "periods = 6"
   ]
  },
  {
   "cell_type": "markdown",
   "metadata": {},
   "source": [
    "## 2. Download Ticker Data"
   ]
  },
  {
   "cell_type": "code",
   "execution_count": null,
   "metadata": {},
   "outputs": [],
   "source": [
    "\n",
    "data = yf.download(stocks, start=start_dt, end=end_dt,interval=interval)\n",
    "prices = data['Adj Close'].resample('MS').first()\n",
    "prices.head()"
   ]
  },
  {
   "cell_type": "markdown",
   "metadata": {},
   "source": [
    "## 3. Calculate Weight Values based on Sharpe"
   ]
  },
  {
   "cell_type": "code",
   "execution_count": null,
   "metadata": {},
   "outputs": [],
   "source": [
    "returns = prices.pct_change(periods=periods).dropna()\n",
    "\n",
    "sharpe = sharpe_ratio(returns, periods=periods)\n",
    "\n",
    "weight_input = sharpe.dropna()\n",
    "weight_input = weight_input.clip(lower=0)\n",
    "weight_input = weight_input.div(weight_input.sum(axis=1), axis='index') \n",
    "\n",
    "print(weight_input.head())\n",
    "\n",
    "data_input = prices.loc[weight_input.index.dropna()]\n",
    "\n",
    "print(data_input.head())\n",
    "\n",
    "df_plot = data_input / data_input.iloc[0]\n",
    "df_plot.plot()"
   ]
  },
  {
   "cell_type": "markdown",
   "metadata": {},
   "source": [
    "## 4. Create Strategy: Weighted vs Equal Weighting"
   ]
  },
  {
   "cell_type": "code",
   "execution_count": null,
   "metadata": {},
   "outputs": [],
   "source": [
    "# Example usage\n",
    "s1 = create_weighted_balance_backtest(data_input, weight_input)\n",
    "\n",
    "\n",
    "# Function to create and run the baseline backtest with equal holdings\n",
    "def equal_weight_backtest(data_input):\n",
    "    # Define the strategy\n",
    "    strategy = bt.Strategy('EqualWeight', \n",
    "                           [bt.algos.RunMonthly(),  # Run the strategy monthly\n",
    "                            bt.algos.SelectAll(),   # Use all data provided\n",
    "                            bt.algos.WeighEqually(),  # Assign equal weights to all assets\n",
    "                            bt.algos.Rebalance()])  # Rebalance to target weights\n",
    "\n",
    "    # Create a backtest object\n",
    "    backtest = bt.Backtest(strategy, data_input)\n",
    "\n",
    "    return backtest\n",
    "\n",
    "# Example usage:\n",
    "s_base = equal_weight_backtest(data_input)"
   ]
  },
  {
   "cell_type": "markdown",
   "metadata": {},
   "source": [
    "## 5. Run and Plot Results"
   ]
  },
  {
   "cell_type": "code",
   "execution_count": null,
   "metadata": {},
   "outputs": [],
   "source": [
    "\n",
    "# Running both strategies together\n",
    "combined_result = bt.run(s1, s_base)\n",
    "\n",
    "# Plotting cumulative returns to compare strategies\n",
    "combined_result.plot(title='Strategy Comparison: Cumulative Returns')\n",
    "\n",
    "# Displaying quantitative metrics\n",
    "combined_result.display()\n",
    "\n",
    "# For more detailed analysis, you can display and compare specific metrics like Sharpe Ratio, Max Drawdown, etc.\n",
    "combined_result.display_lookback_returns()"
   ]
  }
 ],
 "metadata": {
  "kernelspec": {
   "display_name": "Python 3",
   "language": "python",
   "name": "python3"
  },
  "language_info": {
   "codemirror_mode": {
    "name": "ipython",
    "version": 3
   },
   "file_extension": ".py",
   "mimetype": "text/x-python",
   "name": "python",
   "nbconvert_exporter": "python",
   "pygments_lexer": "ipython3",
   "version": "3.11.3"
  }
 },
 "nbformat": 4,
 "nbformat_minor": 2
}
