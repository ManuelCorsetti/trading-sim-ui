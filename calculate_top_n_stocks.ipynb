{
 "cells": [
  {
   "cell_type": "markdown",
   "metadata": {},
   "source": [
    "# Calculate the Top N Stocks:\n",
    "Top N by sharpe ratio and with a correlation of less than a specified `threshold`.\n",
    "\n",
    "## 1. Download the data"
   ]
  },
  {
   "cell_type": "code",
   "execution_count": null,
   "metadata": {},
   "outputs": [],
   "source": [
    "import pandas as pd\n",
    "import yfinance as yf\n",
    "from datetime import datetime\n",
    "\n",
    "# Example:\n",
    "symbols = pd.read_csv('./data/ticker_names/sp500.csv', sep=',')\n",
    "start_dt = datetime(2004,1,1)\n",
    "end_dt = datetime(2014,1,1)\n",
    "\n",
    "print(end_dt.weekday())\n",
    "\n",
    "i = 1\n",
    "data = {}\n",
    "summary_data = {}\n",
    "\n",
    "for symbol in symbols.Symbol:\n",
    "    try:\n",
    "        data[symbol] = yf.download(symbol, start=start_dt, end=end_dt, interval='1mo')['Adj Close']\n",
    "        # volatility = returns.std()   # TODO: Try using negative volatility?        \n",
    "        \n",
    "    except Exception as e:\n",
    "        print(f'Could not download ticker {symbol}. Error:\\n{e}')\n",
    "    \n",
    "    i+= 1\n",
    "    if i % 10 == 1:\n",
    "        print(f'Downloading stock number {i}')"
   ]
  },
  {
   "cell_type": "markdown",
   "metadata": {},
   "source": [
    "## 2. Drop keys without 10 years of data"
   ]
  },
  {
   "cell_type": "code",
   "execution_count": null,
   "metadata": {},
   "outputs": [],
   "source": [
    "# Keep only tickers with full 10 years of data\n",
    "for k in list(data.keys()):\n",
    "    try:\n",
    "        if data[k].index.min() > start_dt:\n",
    "            data.pop(k)\n",
    "    except:\n",
    "        print(k)\n",
    "        data.pop(k)"
   ]
  },
  {
   "cell_type": "markdown",
   "metadata": {},
   "source": [
    "## 3. Calculate Sharpe"
   ]
  },
  {
   "cell_type": "code",
   "execution_count": null,
   "metadata": {},
   "outputs": [],
   "source": [
    "summary_data = {}\n",
    "\n",
    "for s, adj_close in data.items():\n",
    "    returns = adj_close.pct_change()\n",
    "    \n",
    "    summary_data[s] = [returns.mean(), returns.std()]\n",
    "    \n",
    "summary_data_df = pd.DataFrame(summary_data).T\n",
    "summary_data_df.columns = ['AVG_RETURNS','STDEV']\n",
    "summary_data_df.dropna(inplace=True)\n",
    "summary_data_df['SHARPE'] = summary_data_df.AVG_RETURNS / summary_data_df.STDEV\n",
    "\n",
    "summary_data_df.sort_values('SHARPE', ascending=False)"
   ]
  },
  {
   "cell_type": "markdown",
   "metadata": {},
   "source": [
    "## 4. Create data as dataframe and Pivot"
   ]
  },
  {
   "cell_type": "code",
   "execution_count": null,
   "metadata": {},
   "outputs": [],
   "source": [
    "# TODO: Add check to ensure the correct dates are being pulled through \n",
    "dfs_with_keys = []\n",
    "\n",
    "for symbol in summary_data_df.sort_values('SHARPE', ascending=False).index:\n",
    "    df_copy = data[symbol].to_frame().pct_change()\n",
    "    df_copy['TICKER'] = symbol\n",
    "    dfs_with_keys.append(df_copy)\n",
    "\n",
    "    # if len(dfs_with_keys) >= 50:\n",
    "    #     break\n",
    "        \n",
    "merged_df = pd.concat(dfs_with_keys)\n",
    "df_pivot = merged_df.pivot(columns='TICKER', values='Adj Close').dropna()\n",
    "df_pivot.head()"
   ]
  },
  {
   "cell_type": "markdown",
   "metadata": {},
   "source": [
    "## 5. Calculate Correlation"
   ]
  },
  {
   "cell_type": "code",
   "execution_count": null,
   "metadata": {},
   "outputs": [],
   "source": [
    "df_corr = df_pivot.corr()\n",
    "df_corr.head()"
   ]
  },
  {
   "cell_type": "code",
   "execution_count": null,
   "metadata": {},
   "outputs": [],
   "source": [
    "threshold = 0.3\n",
    "top_n_stocks = 20\n",
    "final_tickers = []\n",
    "\n",
    "for symbol in summary_data_df.sort_values('SHARPE', ascending=False).index:\n",
    "    if len(final_tickers) > 0:\n",
    "        # pick next stock - correlation to other tickers in the list\n",
    "        corr_list = df_corr.loc[final_tickers, symbol]\n",
    "        \n",
    "        # if the correlation is above threshold, skip and pick the next\n",
    "        if max(abs(corr_list)) < threshold:\n",
    "            final_tickers.append(symbol) \n",
    "        \n",
    "    else:\n",
    "        final_tickers.append(symbol)\n",
    "\n",
    "    if len(final_tickers) > top_n_stocks:\n",
    "        break\n"
   ]
  },
  {
   "cell_type": "code",
   "execution_count": null,
   "metadata": {},
   "outputs": [],
   "source": [
    "final_tickers"
   ]
  },
  {
   "cell_type": "code",
   "execution_count": null,
   "metadata": {},
   "outputs": [],
   "source": [
    "# TODO: Add check to ensure the correct dates are being pulled through \n",
    "dfs_with_keys = []\n",
    "# while len(dfs_with_keys) < 20:\n",
    "for symbol in final_tickers:\n",
    "    df_copy = data[symbol].to_frame() / data[symbol].iloc[0]\n",
    "    df_copy['TICKER'] = symbol\n",
    "    dfs_with_keys.append(df_copy)\n",
    "        \n",
    "merged_df = pd.concat(dfs_with_keys)\n",
    "\n",
    "df_pivot = merged_df.pivot(columns='TICKER', values='Adj Close')\n",
    "\n",
    "df_pivot.plot(figsize=(15,6))"
   ]
  }
 ],
 "metadata": {
  "kernelspec": {
   "display_name": "Python 3",
   "language": "python",
   "name": "python3"
  },
  "language_info": {
   "codemirror_mode": {
    "name": "ipython",
    "version": 3
   },
   "file_extension": ".py",
   "mimetype": "text/x-python",
   "name": "python",
   "nbconvert_exporter": "python",
   "pygments_lexer": "ipython3",
   "version": "3.11.3"
  }
 },
 "nbformat": 4,
 "nbformat_minor": 2
}
